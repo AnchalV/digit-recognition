{
 "cells": [
  {
   "cell_type": "code",
   "execution_count": 1,
   "id": "b2d2f238",
   "metadata": {},
   "outputs": [],
   "source": [
    "import keras"
   ]
  },
  {
   "cell_type": "markdown",
   "id": "6d5c6818",
   "metadata": {},
   "source": [
    "## USING MLP"
   ]
  },
  {
   "cell_type": "code",
   "execution_count": 2,
   "id": "b3126ab4",
   "metadata": {},
   "outputs": [],
   "source": [
    "from keras.datasets import mnist\n",
    "from keras.utils import np_utils\n",
    "from keras.models import Sequential\n",
    "from keras.layers import Dense, Dropout, Flatten\n",
    "from keras.callbacks import ModelCheckpoint\n"
   ]
  },
  {
   "cell_type": "code",
   "execution_count": 3,
   "id": "48ff6f81",
   "metadata": {},
   "outputs": [],
   "source": [
    "(X_train, y_train), (X_test, y_test) = mnist.load_data()"
   ]
  },
  {
   "cell_type": "code",
   "execution_count": 4,
   "id": "42424f30",
   "metadata": {},
   "outputs": [
    {
     "name": "stdout",
     "output_type": "stream",
     "text": [
      "The MNIST database has a training set of 60000 examples.\n",
      "The MNIST database has a test set of 10000 examples.\n"
     ]
    }
   ],
   "source": [
    "print(\"The MNIST database has a training set of %d examples.\" % len(X_train))\n",
    "print(\"The MNIST database has a test set of %d examples.\" % len(X_test))"
   ]
  },
  {
   "cell_type": "code",
   "execution_count": 5,
   "id": "22867425",
   "metadata": {},
   "outputs": [],
   "source": [
    "X_train = X_train.astype('float32')/255\n",
    "X_test = X_test.astype('float32')/25"
   ]
  },
  {
   "cell_type": "code",
   "execution_count": 6,
   "id": "a1646e75",
   "metadata": {},
   "outputs": [],
   "source": [
    "y_train = np_utils.to_categorical(y_train, 10)\n",
    "y_test = np_utils.to_categorical(y_test, 10)"
   ]
  },
  {
   "cell_type": "code",
   "execution_count": 7,
   "id": "9e34ab0f",
   "metadata": {},
   "outputs": [],
   "source": [
    "model = Sequential()\n",
    "model.add(Flatten(input_shape=X_train.shape[1:]))\n",
    "model.add(Dense(512, activation='relu'))\n",
    "model.add(Dropout(0.2))\n",
    "model.add(Dense(512, activation='relu'))\n",
    "model.add(Dropout(0.2))\n",
    "model.add(Dense(10, activation='softmax'))"
   ]
  },
  {
   "cell_type": "code",
   "execution_count": 8,
   "id": "b2814d35",
   "metadata": {},
   "outputs": [
    {
     "name": "stdout",
     "output_type": "stream",
     "text": [
      "Before Training - Test accuracy: 7.4800%\n",
      "Epoch 1/10\n",
      "375/375 [==============================] - 8s 23ms/step - loss: 0.2748 - accuracy: 0.9137 - val_loss: 0.1275 - val_accuracy: 0.9613\n",
      "Epoch 2/10\n",
      "375/375 [==============================] - 8s 22ms/step - loss: 0.1109 - accuracy: 0.9663 - val_loss: 0.0916 - val_accuracy: 0.9736\n",
      "Epoch 3/10\n",
      "375/375 [==============================] - 8s 22ms/step - loss: 0.0786 - accuracy: 0.9756 - val_loss: 0.0953 - val_accuracy: 0.9742\n",
      "Epoch 4/10\n",
      "375/375 [==============================] - 8s 21ms/step - loss: 0.0635 - accuracy: 0.9806 - val_loss: 0.0821 - val_accuracy: 0.9777\n",
      "Epoch 5/10\n",
      "375/375 [==============================] - 8s 22ms/step - loss: 0.0501 - accuracy: 0.9846 - val_loss: 0.0954 - val_accuracy: 0.9777\n",
      "Epoch 6/10\n",
      "375/375 [==============================] - 8s 21ms/step - loss: 0.0428 - accuracy: 0.9871 - val_loss: 0.0891 - val_accuracy: 0.9788\n",
      "Epoch 7/10\n",
      "375/375 [==============================] - 8s 22ms/step - loss: 0.0365 - accuracy: 0.9884 - val_loss: 0.1031 - val_accuracy: 0.9786\n",
      "Epoch 8/10\n",
      "375/375 [==============================] - 8s 21ms/step - loss: 0.0348 - accuracy: 0.9892 - val_loss: 0.0918 - val_accuracy: 0.9818\n",
      "Epoch 9/10\n",
      "375/375 [==============================] - 9s 24ms/step - loss: 0.0268 - accuracy: 0.9918 - val_loss: 0.1169 - val_accuracy: 0.9783\n",
      "Epoch 10/10\n",
      "375/375 [==============================] - 9s 24ms/step - loss: 0.0279 - accuracy: 0.9914 - val_loss: 0.1248 - val_accuracy: 0.9774\n",
      "After Training - Test accuracy: 97.8300%\n"
     ]
    }
   ],
   "source": [
    "model.compile(loss='categorical_crossentropy', optimizer='rmsprop',\n",
    "              metrics=['accuracy'])\n",
    "\n",
    "\n",
    "# Calculate the Classification Accuracy on the Test Set (Before Training)\n",
    "\n",
    "score = model.evaluate(X_test, y_test, verbose=0)\n",
    "accuracy = 100*score[1]\n",
    "\n",
    "print('Before Training - Test accuracy: %.4f%%' % accuracy)\n",
    "\n",
    "\n",
    "# Train the Model\n",
    "\n",
    "hist = model.fit(X_train, y_train, batch_size=128, epochs=10,\n",
    "          validation_split=0.2, verbose=1, shuffle=True)\n",
    "\n",
    "\n",
    "# Load the Model with the Best Classification Accuracy on the Validation Set\n",
    "\n",
    "model.save('mnist_mlp_model.h5')\n",
    "\n",
    "# Calculate the Classification Accuracy on the Test Set\n",
    "\n",
    "score = model.evaluate(X_test, y_test, verbose=0)\n",
    "accuracy = 100*score[1]\n",
    "\n",
    "print('After Training - Test accuracy: %.4f%%' % accuracy)"
   ]
  },
  {
   "cell_type": "markdown",
   "id": "d956caf9",
   "metadata": {},
   "source": [
    "## USING CNN"
   ]
  },
  {
   "cell_type": "code",
   "execution_count": 9,
   "id": "0fb7e546",
   "metadata": {},
   "outputs": [],
   "source": [
    "from __future__ import print_function\n",
    "import keras\n",
    "from keras.datasets import mnist\n",
    "from keras.models import Sequential\n",
    "from keras.layers import Dense, Dropout, Flatten\n",
    "from keras.layers import Conv2D, MaxPooling2D\n",
    "from keras import backend as K\n"
   ]
  },
  {
   "cell_type": "code",
   "execution_count": 10,
   "id": "56451d7c",
   "metadata": {},
   "outputs": [],
   "source": [
    "batch_size = 128\n",
    "num_classes = 10\n",
    "epochs = 12\n"
   ]
  },
  {
   "cell_type": "code",
   "execution_count": 11,
   "id": "b25f04c9",
   "metadata": {},
   "outputs": [],
   "source": [
    "img_rows, img_cols = 28, 28\n",
    "\n",
    "# The data, split between train and test sets\n",
    "(x_train, y_train), (x_test, y_test) = mnist.load_data()\n"
   ]
  },
  {
   "cell_type": "code",
   "execution_count": 12,
   "id": "6e9deca1",
   "metadata": {},
   "outputs": [],
   "source": [
    "if K.image_data_format() == 'channels_first':\n",
    "    x_train = x_train.reshape(x_train.shape[0], 1, img_rows, img_cols)\n",
    "    x_test = x_test.reshape(x_test.shape[0], 1, img_rows, img_cols)\n",
    "    input_shape = (1, img_rows, img_cols)\n",
    "else:\n",
    "    x_train = x_train.reshape(x_train.shape[0], img_rows, img_cols, 1)\n",
    "    x_test = x_test.reshape(x_test.shape[0], img_rows, img_cols, 1)\n",
    "    input_shape = (img_rows, img_cols, 1)\n"
   ]
  },
  {
   "cell_type": "code",
   "execution_count": 13,
   "id": "33b796d8",
   "metadata": {},
   "outputs": [],
   "source": [
    "x_train = x_train.astype('float32')\n",
    "x_test = x_test.astype('float32')\n",
    "\n",
    "# Rescale the image values to [0, 1]\n",
    "x_train /= 255\n",
    "x_test /= 255"
   ]
  },
  {
   "cell_type": "code",
   "execution_count": 14,
   "id": "46344e36",
   "metadata": {},
   "outputs": [],
   "source": [
    "y_train = keras.utils.to_categorical(y_train, num_classes)\n",
    "y_test = keras.utils.to_categorical(y_test, num_classes)\n"
   ]
  },
  {
   "cell_type": "code",
   "execution_count": 15,
   "id": "1d411773",
   "metadata": {},
   "outputs": [],
   "source": [
    "model = Sequential()\n",
    "model.add(Conv2D(32, kernel_size=(3, 3),\n",
    "                 activation='relu',\n",
    "                 input_shape=input_shape))\n",
    "model.add(Conv2D(64, (3, 3), activation='relu'))\n",
    "model.add(MaxPooling2D(pool_size=(2, 2)))\n",
    "model.add(Dropout(0.25))\n",
    "model.add(Flatten())\n",
    "model.add(Dense(128, activation='relu'))\n",
    "model.add(Dropout(0.5))\n",
    "model.add(Dense(num_classes, activation='softmax'))\n"
   ]
  },
  {
   "cell_type": "code",
   "execution_count": 16,
   "id": "132a0d8e",
   "metadata": {},
   "outputs": [
    {
     "name": "stdout",
     "output_type": "stream",
     "text": [
      "Epoch 1/12\n",
      "469/469 [==============================] - 161s 343ms/step - loss: 2.2799 - accuracy: 0.1450 - val_loss: 2.2421 - val_accuracy: 0.3194\n",
      "Epoch 2/12\n",
      "469/469 [==============================] - 161s 344ms/step - loss: 2.2196 - accuracy: 0.2544 - val_loss: 2.1639 - val_accuracy: 0.5080\n",
      "Epoch 3/12\n",
      "469/469 [==============================] - 160s 341ms/step - loss: 2.1368 - accuracy: 0.3692 - val_loss: 2.0541 - val_accuracy: 0.6140\n",
      "Epoch 4/12\n",
      "469/469 [==============================] - 175s 373ms/step - loss: 2.0235 - accuracy: 0.4541 - val_loss: 1.9083 - val_accuracy: 0.6810\n",
      "Epoch 5/12\n",
      "469/469 [==============================] - 174s 370ms/step - loss: 1.8805 - accuracy: 0.5174 - val_loss: 1.7271 - val_accuracy: 0.7241\n",
      "Epoch 6/12\n",
      "469/469 [==============================] - 192s 409ms/step - loss: 1.7098 - accuracy: 0.5669 - val_loss: 1.5202 - val_accuracy: 0.7534\n",
      "Epoch 7/12\n",
      "469/469 [==============================] - 197s 420ms/step - loss: 1.5364 - accuracy: 0.6001 - val_loss: 1.3137 - val_accuracy: 0.7777\n",
      "Epoch 8/12\n",
      "469/469 [==============================] - 197s 420ms/step - loss: 1.3709 - accuracy: 0.6310 - val_loss: 1.1302 - val_accuracy: 0.7984\n",
      "Epoch 9/12\n",
      "469/469 [==============================] - 200s 425ms/step - loss: 1.2329 - accuracy: 0.6580 - val_loss: 0.9809 - val_accuracy: 0.8140\n",
      "Epoch 10/12\n",
      "469/469 [==============================] - 201s 428ms/step - loss: 1.1224 - accuracy: 0.6771 - val_loss: 0.8649 - val_accuracy: 0.8247\n",
      "Epoch 11/12\n",
      "469/469 [==============================] - 199s 424ms/step - loss: 1.0382 - accuracy: 0.6956 - val_loss: 0.7772 - val_accuracy: 0.8332\n",
      "Epoch 12/12\n",
      "469/469 [==============================] - 203s 433ms/step - loss: 0.9655 - accuracy: 0.7142 - val_loss: 0.7082 - val_accuracy: 0.8439\n",
      "Test loss: 0.7081867456436157\n",
      "Test accuracy: 0.8439000248908997\n"
     ]
    }
   ],
   "source": [
    "model.compile(loss=keras.losses.categorical_crossentropy,\n",
    "              optimizer=keras.optimizers.Adadelta(),\n",
    "              metrics=['accuracy'])\n",
    "\n",
    "# Train the model\n",
    "model.fit(x_train, y_train,\n",
    "          batch_size=batch_size,\n",
    "          epochs=epochs,\n",
    "          verbose=1,\n",
    "          validation_data=(x_test, y_test))\n",
    "\n",
    "# Save the model weights for future reference\n",
    "model.save('mnist_cnn_model.h5')\n",
    "\n",
    "# Evaluate the model using Accuracy and Loss\n",
    "score = model.evaluate(x_test, y_test, verbose=0)\n",
    "\n",
    "print('Test loss:', score[0])\n",
    "print('Test accuracy:', score[1])"
   ]
  },
  {
   "cell_type": "code",
   "execution_count": null,
   "id": "fa2a9da4",
   "metadata": {},
   "outputs": [],
   "source": []
  }
 ],
 "metadata": {
  "kernelspec": {
   "display_name": "Python 3",
   "language": "python",
   "name": "python3"
  },
  "language_info": {
   "codemirror_mode": {
    "name": "ipython",
    "version": 3
   },
   "file_extension": ".py",
   "mimetype": "text/x-python",
   "name": "python",
   "nbconvert_exporter": "python",
   "pygments_lexer": "ipython3",
   "version": "3.8.8"
  }
 },
 "nbformat": 4,
 "nbformat_minor": 5
}
